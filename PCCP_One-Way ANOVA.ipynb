{
 "cells": [
  {
   "cell_type": "code",
   "execution_count": 20,
   "metadata": {
    "collapsed": true
   },
   "outputs": [],
   "source": [
    "import numpy as np\n",
    "import pandas as pd\n",
    "import matplotlib.pyplot as plt\n",
    "import scipy.stats as stats"
   ]
  },
  {
   "cell_type": "code",
   "execution_count": 54,
   "metadata": {
    "collapsed": true
   },
   "outputs": [],
   "source": [
    "pccpdf=pd.read_csv(\"C:/Users/chunweil/Documents/pccp/Copy of wssc_0724.csv\")"
   ]
  },
  {
   "cell_type": "code",
   "execution_count": 32,
   "metadata": {},
   "outputs": [
    {
     "data": {
      "text/plain": [
       "array(['INTERPACE', 'Lock Joint Pipe Co.', 'PRICE BROTHERS',\n",
       "       'International Pipe & Ceramics Corporation'], dtype=object)"
      ]
     },
     "execution_count": 32,
     "metadata": {},
     "output_type": "execute_result"
    }
   ],
   "source": [
    "Group_Mnft=pccpdf.loc[:,[\"TotalWB\",\"Manufacturer\"]]\n",
    "Group_Mnft=Group_Mnft.loc[Group_Mnft.Manufacturer!='Unknown',:]\n",
    "pd.unique(Group_Mnft.Manufacturer)"
   ]
  },
  {
   "cell_type": "code",
   "execution_count": 23,
   "metadata": {},
   "outputs": [],
   "source": [
    "#Group break by Machufacturer\n",
    "break_mnft=Group_Mnft.groupby(\"Manufacturer\").groups\n"
   ]
  },
  {
   "cell_type": "code",
   "execution_count": 27,
   "metadata": {},
   "outputs": [],
   "source": [
    "# Extract individual groups\n",
    "INTERPACE=Group_Mnft.TotalWB[break_mnft['INTERPACE']]\n",
    "Lock_Joint_Pipe_Co=Group_Mnft.TotalWB[break_mnft['Lock Joint Pipe Co.']]\n",
    "PRICE_BROTHERS=Group_Mnft.TotalWB[break_mnft['PRICE BROTHERS']]\n",
    "International_Pipe_Ceramics_Co=Group_Mnft.TotalWB[break_mnft['International Pipe & Ceramics Corporation']]\n",
    "\n"
   ]
  },
  {
   "cell_type": "code",
   "execution_count": 28,
   "metadata": {},
   "outputs": [
    {
     "data": {
      "text/plain": [
       "F_onewayResult(statistic=15.936429912706458, pvalue=2.4422290886414153e-10)"
      ]
     },
     "execution_count": 28,
     "metadata": {},
     "output_type": "execute_result"
    }
   ],
   "source": [
    "# Perform the ANOVA\n",
    "# the test output yields an F-statistic of 15.94 and a small p-value \n",
    "# indicating there is siginificant difference between the means of each group\n",
    "stats.f_oneway(INTERPACE,Lock_Joint_Pipe_Co,PRICE_BROTHERS,International_Pipe_Ceramics_Co)"
   ]
  },
  {
   "cell_type": "code",
   "execution_count": 30,
   "metadata": {},
   "outputs": [
    {
     "name": "stdout",
     "output_type": "stream",
     "text": [
      "('INTERPACE', 'Lock Joint Pipe Co.')\n",
      "Ttest_indResult(statistic=0.054379974012777707, pvalue=0.9566333458433659)\n",
      "('INTERPACE', 'PRICE BROTHERS')\n",
      "Ttest_indResult(statistic=2.8958802715556082, pvalue=0.003793343494257361)\n",
      "('INTERPACE', 'International Pipe & Ceramics Corporation')\n",
      "Ttest_indResult(statistic=-5.5841209048610496, pvalue=2.4441017900565008e-08)\n",
      "('Lock Joint Pipe Co.', 'PRICE BROTHERS')\n",
      "Ttest_indResult(statistic=3.2823214045697324, pvalue=0.0010353902137304144)\n",
      "('Lock Joint Pipe Co.', 'International Pipe & Ceramics Corporation')\n",
      "Ttest_indResult(statistic=-6.2461026302605962, pvalue=4.5006658937799392e-10)\n",
      "('PRICE BROTHERS', 'International Pipe & Ceramics Corporation')\n",
      "Ttest_indResult(statistic=-5.4403058904831969, pvalue=7.5966825100354103e-08)\n"
     ]
    }
   ],
   "source": [
    "# one post-hoc test is to perform a seperate t-test for each pair of groups\n",
    "# we perform a t-test between all pairs using by running each pair \n",
    "\n",
    "# get all manufacturer pairs\n",
    "Manufacturer=[]\n",
    "mnft=['INTERPACE',\"Lock Joint Pipe Co.\",\"PRICE BROTHERS\",\"International Pipe & Ceramics Corporation\"]\n",
    "for mnft1 in range(3):\n",
    "    for mnft2  in range(mnft1+1,4):\n",
    "        Manufacturer.append((mnft[mnft1], mnft[mnft2]))\n",
    "\n",
    "# Conduct t-test on each pair\n",
    "for mnft1, mnft2 in Manufacturer: \n",
    "    print(mnft1, mnft2)\n",
    "    print(stats.ttest_ind(Group_Mnft.TotalWB[break_mnft[mnft1]], \n",
    "                          Group_Mnft.TotalWB[break_mnft[mnft2]]))  \n"
   ]
  },
  {
   "cell_type": "code",
   "execution_count": 33,
   "metadata": {},
   "outputs": [
    {
     "data": {
      "text/html": [
       "<table class=\"simpletable\">\n",
       "<caption>Multiple Comparison of Means - Tukey HSD,FWER=0.05</caption>\n",
       "<tr>\n",
       "                   <th>group1</th>                                    <th>group2</th>                   <th>meandiff</th>  <th>lower</th>   <th>upper</th>  <th>reject</th>\n",
       "</tr>\n",
       "<tr>\n",
       "                  <td>INTERPACE</td>                 <td>International Pipe & Ceramics Corporation</td>  <td>2.2578</td>  <td>1.3056</td>  <td>3.2101</td>   <td>True</td> \n",
       "</tr>\n",
       "<tr>\n",
       "                  <td>INTERPACE</td>                            <td>Lock Joint Pipe Co.</td>             <td>-0.0056</td> <td>-0.2765</td> <td>0.2652</td>   <td>False</td>\n",
       "</tr>\n",
       "<tr>\n",
       "                  <td>INTERPACE</td>                              <td>PRICE BROTHERS</td>                <td>-0.889</td>  <td>-1.6615</td> <td>-0.1165</td>  <td>True</td> \n",
       "</tr>\n",
       "<tr>\n",
       "  <td>International Pipe & Ceramics Corporation</td>            <td>Lock Joint Pipe Co.</td>             <td>-2.2635</td> <td>-3.2176</td> <td>-1.3094</td>  <td>True</td> \n",
       "</tr>\n",
       "<tr>\n",
       "  <td>International Pipe & Ceramics Corporation</td>              <td>PRICE BROTHERS</td>                <td>-3.1468</td> <td>-4.3442</td> <td>-1.9495</td>  <td>True</td> \n",
       "</tr>\n",
       "<tr>\n",
       "             <td>Lock Joint Pipe Co.</td>                         <td>PRICE BROTHERS</td>                <td>-0.8833</td> <td>-1.658</td>  <td>-0.1086</td>  <td>True</td> \n",
       "</tr>\n",
       "</table>"
      ],
      "text/plain": [
       "<class 'statsmodels.iolib.table.SimpleTable'>"
      ]
     },
     "execution_count": 33,
     "metadata": {},
     "output_type": "execute_result"
    }
   ],
   "source": [
    "from statsmodels.stats.multicomp import pairwise_tukeyhsd\n",
    "\n",
    "tukey = pairwise_tukeyhsd(endog=Group_Mnft.TotalWB,     # Data\n",
    "                          groups=Group_Mnft.Manufacturer,   # Groups\n",
    "                          alpha=0.05)          # Significance level\n",
    "\n",
    "tukey.plot_simultaneous()    # Plot group confidence intervals\n",
    "plt.vlines(x=49.57,ymin=-0.5,ymax=4.5, color=\"red\")\n",
    "\n",
    "tukey.summary()              # See test summary"
   ]
  },
  {
   "cell_type": "code",
   "execution_count": 44,
   "metadata": {},
   "outputs": [
    {
     "data": {
      "image/png": "[encoded data removed]",
      "text/plain": [
       "<matplotlib.figure.Figure at 0xbc88790>"
      ]
     },
     "execution_count": 44,
     "metadata": {},
     "output_type": "execute_result"
    }
   ],
   "source": [
    "tukey.plot_simultaneous(figsize=(10,10),xlabel=\"TotalWB\")    # Plot group confidence intervals\n",
    "\n"
   ]
  },
  {
   "cell_type": "code",
   "execution_count": null,
   "metadata": {
    "collapsed": true
   },
   "outputs": [],
   "source": [
    "# source:http://hamelg.blogspot.com/2015/11/python-for-data-analysis-part-16_23.html"
   ]
  },
  {
   "cell_type": "code",
   "execution_count": 56,
   "metadata": {},
   "outputs": [
    {
     "data": {
      "text/plain": [
       "array(['III', 'II', 'IV', 'I'], dtype=object)"
      ]
     },
     "execution_count": 56,
     "metadata": {},
     "output_type": "execute_result"
    }
   ],
   "source": [
    "# One-Way ANOVA for Wireclass\n",
    "\n",
    "Group_wireclass=pccpdf.loc[:,[\"TotalWB\",\"WireClass\"]]\n",
    "Group_wireclass=Group_wireclass.loc[Group_wireclass.WireClass!='Unknown',:]\n",
    "pd.unique(Group_wireclass.WireClass)"
   ]
  },
  {
   "cell_type": "code",
   "execution_count": 58,
   "metadata": {
    "collapsed": true
   },
   "outputs": [],
   "source": [
    "#Group break by WireClass\n",
    "break_class=Group_wireclass.groupby(\"WireClass\").groups\n",
    "# Extract individual groups\n",
    "IV=Group_wireclass.TotalWB[break_class['IV']]\n",
    "III=Group_wireclass.TotalWB[break_class['III']]\n",
    "II=Group_wireclass.TotalWB[break_class['II']]\n",
    "I=Group_wireclass.TotalWB[break_class['I']]"
   ]
  },
  {
   "cell_type": "code",
   "execution_count": 59,
   "metadata": {},
   "outputs": [
    {
     "data": {
      "text/plain": [
       "F_onewayResult(statistic=41.975184355309707, pvalue=5.0765028714002113e-27)"
      ]
     },
     "execution_count": 59,
     "metadata": {},
     "output_type": "execute_result"
    }
   ],
   "source": [
    "# Perform the ANOVA\n",
    "# the test output yields an F-statistic of 41.97 and a small p-value \n",
    "# indicating there is siginificant difference between the means of each group\n",
    "stats.f_oneway(IV,III,II,I)"
   ]
  },
  {
   "cell_type": "code",
   "execution_count": 63,
   "metadata": {},
   "outputs": [],
   "source": [
    "Wireclass=[]\n",
    "wclass=[\"IV\",\"III\",\"II\",\"I\"]\n",
    "for wclass1 in range(3):\n",
    "    for wclass2  in range(wclass1+1,4):\n",
    "        Wireclass.append((wclass[wclass1], wclass[wclass2]))\n",
    "\n"
   ]
  },
  {
   "cell_type": "code",
   "execution_count": 64,
   "metadata": {},
   "outputs": [
    {
     "name": "stdout",
     "output_type": "stream",
     "text": [
      "('IV', 'III')\n",
      "Ttest_indResult(statistic=6.9350254457534222, pvalue=5.2420338340763958e-12)\n",
      "('IV', 'II')\n",
      "Ttest_indResult(statistic=10.223183366957151, pvalue=1.8494801934645191e-24)\n",
      "('IV', 'I')\n",
      "Ttest_indResult(statistic=2.6362121931684235, pvalue=0.0085017678179272124)\n",
      "('III', 'II')\n",
      "Ttest_indResult(statistic=-3.1031953363750024, pvalue=0.0019176207417413423)\n",
      "('III', 'I')\n",
      "Ttest_indResult(statistic=1.2049882287106992, pvalue=0.22840022558605727)\n",
      "('II', 'I')\n",
      "Ttest_indResult(statistic=1.8437785538287801, pvalue=0.065234479931340364)\n"
     ]
    }
   ],
   "source": [
    "# Conduct t-test on each pair\n",
    "for wclass1, wclass2 in Wireclass: \n",
    "    print(wclass1, wclass2)\n",
    "    print(stats.ttest_ind(Group_wireclass.TotalWB[break_class[wclass1]], \n",
    "                          Group_wireclass.TotalWB[break_class[wclass2]]))  "
   ]
  },
  {
   "cell_type": "code",
   "execution_count": 67,
   "metadata": {},
   "outputs": [
    {
     "data": {
      "text/html": [
       "<table class=\"simpletable\">\n",
       "<caption>Multiple Comparison of Means - Tukey HSD,FWER=0.05</caption>\n",
       "<tr>\n",
       "  <th>group1</th> <th>group2</th> <th>meandiff</th>  <th>lower</th>   <th>upper</th>  <th>reject</th>\n",
       "</tr>\n",
       "<tr>\n",
       "     <td>I</td>     <td>II</td>    <td>1.0074</td>  <td>-0.5338</td> <td>2.5486</td>   <td>False</td>\n",
       "</tr>\n",
       "<tr>\n",
       "     <td>I</td>     <td>III</td>   <td>0.4751</td>  <td>-1.1305</td> <td>2.0808</td>   <td>False</td>\n",
       "</tr>\n",
       "<tr>\n",
       "     <td>I</td>     <td>IV</td>    <td>3.3517</td>  <td>1.7192</td>  <td>4.9843</td>   <td>True</td> \n",
       "</tr>\n",
       "<tr>\n",
       "    <td>II</td>     <td>III</td>   <td>-0.5323</td> <td>-1.0242</td> <td>-0.0404</td>  <td>True</td> \n",
       "</tr>\n",
       "<tr>\n",
       "    <td>II</td>     <td>IV</td>    <td>2.3443</td>  <td>1.7706</td>  <td>2.9181</td>   <td>True</td> \n",
       "</tr>\n",
       "<tr>\n",
       "    <td>III</td>    <td>IV</td>    <td>2.8766</td>  <td>2.1473</td>  <td>3.6059</td>   <td>True</td> \n",
       "</tr>\n",
       "</table>"
      ],
      "text/plain": [
       "<class 'statsmodels.iolib.table.SimpleTable'>"
      ]
     },
     "execution_count": 67,
     "metadata": {},
     "output_type": "execute_result"
    }
   ],
   "source": [
    "from statsmodels.stats.multicomp import pairwise_tukeyhsd\n",
    "\n",
    "tukey2 = pairwise_tukeyhsd(endog=Group_wireclass.TotalWB,     # Data\n",
    "                          groups=Group_wireclass.WireClass,   # Groups\n",
    "                          alpha=0.05)\n",
    "tukey2.summary()"
   ]
  },
  {
   "cell_type": "code",
   "execution_count": 68,
   "metadata": {},
   "outputs": [
    {
     "data": {
      "image/png": "[encoded data removed]",
      "text/plain": [
       "<matplotlib.figure.Figure at 0xbc927f0>"
      ]
     },
     "execution_count": 68,
     "metadata": {},
     "output_type": "execute_result"
    }
   ],
   "source": [
    "tukey2.plot_simultaneous(figsize=(10,10),xlabel=\"TotalWB\")"
   ]
  },
  {
   "cell_type": "code",
   "execution_count": null,
   "metadata": {
    "collapsed": true
   },
   "outputs": [],
   "source": []
  }
 ],
 "metadata": {
  "kernelspec": {
   "display_name": "Python 2",
   "language": "python",
   "name": "python2"
  },
  "language_info": {
   "codemirror_mode": {
    "name": "ipython",
    "version": 2
   },
   "file_extension": ".py",
   "mimetype": "text/x-python",
   "name": "python",
   "nbconvert_exporter": "python",
   "pygments_lexer": "ipython2",
   "version": "2.7.13"
  }
 },
 "nbformat": 4,
 "nbformat_minor": 2
}
