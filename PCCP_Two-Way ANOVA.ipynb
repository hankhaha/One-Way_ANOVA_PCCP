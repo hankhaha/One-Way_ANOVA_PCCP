{
 "cells": [
  {
   "cell_type": "code",
   "execution_count": 1,
   "metadata": {
    "collapsed": true
   },
   "outputs": [],
   "source": [
    "import numpy as np\n",
    "import pandas as pd\n",
    "import matplotlib.pyplot as plt\n",
    "import scipy.stats as stats"
   ]
  },
  {
   "cell_type": "code",
   "execution_count": 2,
   "metadata": {
    "collapsed": true
   },
   "outputs": [],
   "source": [
    "pccpdf=pd.read_csv(\"C:/Users/chunweil/Documents/pccp/Copy of wssc_0724.csv\")"
   ]
  },
  {
   "cell_type": "code",
   "execution_count": 4,
   "metadata": {},
   "outputs": [
    {
     "data": {
      "text/plain": [
       "(10490, 3)"
      ]
     },
     "execution_count": 4,
     "metadata": {},
     "output_type": "execute_result"
    }
   ],
   "source": [
    "two_factor=pccpdf.loc[:,[\"TotalWB\",\"Manufacturer\",\"WireClass\"]]\n",
    "two_factor=two_factor.loc[two_factor.Manufacturer!='Unknown',:]\n",
    "two_factor=two_factor.loc[two_factor.WireClass!='Unknown',:]\n",
    "two_factor.shape\n"
   ]
  },
  {
   "cell_type": "code",
   "execution_count": 5,
   "metadata": {},
   "outputs": [
    {
     "name": "stdout",
     "output_type": "stream",
     "text": [
      "['III' 'II' 'I' 'IV']\n",
      "['INTERPACE' 'Lock Joint Pipe Co.' 'PRICE BROTHERS'\n",
      " 'International Pipe & Ceramics Corporation']\n"
     ]
    }
   ],
   "source": [
    "# Compress class based on One-Way ANOVA\n",
    "print(pd.unique(two_factor.WireClass))\n",
    "print(pd.unique(two_factor.Manufacturer))"
   ]
  },
  {
   "cell_type": "code",
   "execution_count": 8,
   "metadata": {},
   "outputs": [
    {
     "name": "stdout",
     "output_type": "stream",
     "text": [
      "['I-III' 'IV']\n",
      "['INTERPACE-Lock Joint Pipe Co.' 'PRICE BROTHERS'\n",
      " 'International Pipe & Ceramics Corporation']\n"
     ]
    }
   ],
   "source": [
    "two_factor[\"WireClass\"]=two_factor[\"WireClass\"].replace(\"III\",\"I-III\")\n",
    "two_factor[\"WireClass\"]=two_factor[\"WireClass\"].replace(\"II\",\"I-III\")\n",
    "two_factor[\"WireClass\"]=two_factor[\"WireClass\"].replace(\"I\",\"I-III\")\n",
    "print(pd.unique(two_factor.WireClass))\n",
    "\n",
    "two_factor[\"Manufacturer\"]=two_factor[\"Manufacturer\"].replace('INTERPACE',\"INTERPACE-Lock Joint Pipe Co.\")\n",
    "two_factor[\"Manufacturer\"]=two_factor[\"Manufacturer\"].replace('Lock Joint Pipe Co.',\"INTERPACE-Lock Joint Pipe Co.\")\n",
    "print(pd.unique(two_factor.Manufacturer))\n"
   ]
  },
  {
   "cell_type": "code",
   "execution_count": 15,
   "metadata": {},
   "outputs": [],
   "source": [
    "two_factor.to_csv(\"two-way_ANOVA.csv\")"
   ]
  },
  {
   "cell_type": "code",
   "execution_count": null,
   "metadata": {
    "collapsed": true
   },
   "outputs": [],
   "source": []
  }
 ],
 "metadata": {
  "kernelspec": {
   "display_name": "Python 2",
   "language": "python",
   "name": "python2"
  },
  "language_info": {
   "codemirror_mode": {
    "name": "ipython",
    "version": 2
   },
   "file_extension": ".py",
   "mimetype": "text/x-python",
   "name": "python",
   "nbconvert_exporter": "python",
   "pygments_lexer": "ipython2",
   "version": "2.7.13"
  }
 },
 "nbformat": 4,
 "nbformat_minor": 2
}
